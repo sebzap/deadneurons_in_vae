{
 "cells": [
  {
   "cell_type": "code",
   "execution_count": 1,
   "metadata": {},
   "outputs": [
    {
     "name": "stderr",
     "output_type": "stream",
     "text": [
      "WARNING:root:Argument blacklist is deprecated. Please use denylist.\n",
      "WARNING:root:Argument blacklist is deprecated. Please use denylist.\n",
      "WARNING:root:Argument blacklist is deprecated. Please use denylist.\n",
      "WARNING:root:Argument blacklist is deprecated. Please use denylist.\n",
      "WARNING:root:Argument blacklist is deprecated. Please use denylist.\n",
      "WARNING:root:Argument blacklist is deprecated. Please use denylist.\n",
      "WARNING:root:Argument blacklist is deprecated. Please use denylist.\n",
      "WARNING:root:Argument blacklist is deprecated. Please use denylist.\n",
      "WARNING:root:Argument blacklist is deprecated. Please use denylist.\n"
     ]
    }
   ],
   "source": [
    "from carla_disentanglement.datasets.dsprites import DSpritesDataset, DSpritesDatasetMini\n",
    "import numpy as np\n",
    "from models.annealed_vae import AnnealedVAE\n",
    "from models.beta_tcvae import BetaTCVAE\n",
    "from models.beta_vae import BetaVAE, VAEModule\n",
    "from models.info_vae import InfoVAE\n",
    "from models.geco_vae import GecoVAE\n",
    "from architectures.SimpleConv64 import *\n",
    "from architectures.Conv64 import *\n",
    "# from architectures.ResConv import *\n",
    "# from architectures.ResConv64 import *\n",
    "from architectures.LeakyConv64 import *\n",
    "from architectures.LConv64 import *\n",
    "from architectures.LSConv64 import *\n",
    "from architectures.LSConv64Stride1 import *\n",
    "from architectures.InvRes import *\n",
    "import torch\n",
    "import random\n"
   ]
  },
  {
   "cell_type": "code",
   "execution_count": 2,
   "metadata": {},
   "outputs": [],
   "source": [
    "ds = DSpritesDataset()"
   ]
  },
  {
   "cell_type": "code",
   "execution_count": 3,
   "metadata": {},
   "outputs": [],
   "source": [
    "seed = 1\n",
    "random.seed(seed)\n",
    "np.random.seed(seed)\n",
    "torch.manual_seed(seed)\n",
    "torch.cuda.manual_seed(seed)\n",
    "torch.cuda.manual_seed_all(seed)\n",
    "torch.backends.cudnn.deterministic = True\n",
    "torch.backends.cudnn.benchmark = False"
   ]
  },
  {
   "cell_type": "code",
   "execution_count": 4,
   "metadata": {},
   "outputs": [],
   "source": [
    "z_dim = 10\n",
    "num_channels = 1\n",
    "image_size = 64\n",
    "batch_size=256"
   ]
  },
  {
   "cell_type": "code",
   "execution_count": 5,
   "metadata": {},
   "outputs": [
    {
     "name": "stdout",
     "output_type": "stream",
     "text": [
      "cuda\n"
     ]
    },
    {
     "data": {
      "text/plain": [
       "Sigmoid()"
      ]
     },
     "execution_count": 5,
     "metadata": {},
     "output_type": "execute_result"
    }
   ],
   "source": [
    "# vae = AnnealedVAE(GaussianConv64(z_dim, num_channels, image_size), Conv64Decoder(z_dim, num_channels, image_size), beta=100.0, max_c=20, iterations_c=2)\n",
    "# vae = AnnealedVAE(SimpleGaussianConv64(z_dim, num_channels, image_size), SimpleConv64Decoder(z_dim, num_channels, image_size), beta=50.0, max_c=20, iterations_c=4)\n",
    "# vae = AnnealedVAE(GaussianConv64(z_dim, num_channels, image_size), Conv64Decoder(z_dim, num_channels, image_size), beta=100.0, max_c=20, iterations_c=8, reconstruction='mse')\n",
    "# vae = AnnealedVAE(Encoder(num_channels, z_dim, , image_size), Decoder(z_dim, num_channels, image_size), beta=100.0, max_c=20, iterations_c=8, reconstruction='mse')\n",
    "# vae = BetaTCVAE(SimpleGaussianConv64(z_dim, num_channels, image_size), SimpleConv64Decoder(z_dim, num_channels, image_size), beta=10.0, reconstruction='mse')\n",
    "\n",
    "#vae = AnnealedVAE(GaussianResConv64(z_dim, num_channels, image_size), ResConv64Decoder(z_dim, num_channels, image_size), gamma=100.0, max_c=20, iterations_c=1e5, reconstruction='bce')\n",
    "# vae = BetaVAE(GaussianResConv64(z_dim, num_channels, image_size), ResConv64Decoder(z_dim, num_channels, image_size))\n",
    "# vae = BetaVAE(GaussianLConv64(z_dim, num_channels, image_size), LConv64Decoder(z_dim, num_channels, image_size))\n",
    "# vae = AnnealedVAE(GaussianLConv64(z_dim, num_channels, image_size), LConv64Decoder(z_dim, num_channels, image_size), gamma=100.0, max_c=20, iterations_c=1e5, reconstruction='bce')\n",
    "# vae = AnnealedVAE(GaussianLeakyConv64(z_dim, num_channels, image_size), LeakyConv64Decoder(z_dim, num_channels, image_size), gamma=100.0, max_c=20, iterations_c=1e5, reconstruction='bce')\n",
    "\n",
    "# vae = AnnealedVAE(InvertedResidualVAEModel(z_dim, num_channels), gamma=100.0, max_c=20, iterations_c=1e5/batch_size*64, reconstruction='bce', tag=\"dsprites\")\n",
    "# vae = AnnealedVAE(VAEModule(GaussianLeakyConv64(z_dim, num_channels, image_size), LeakyConv64Decoder(z_dim, num_channels, image_size)), gamma=100.0, max_c=20, iterations_c=1e5/batch_size*64, reconstruction='bce', tag=\"dsprites_leakysimple\")\n",
    "# vae = BetaVAE(InvertedResidualVAEModel(z_dim, num_channels), tag=\"dsprites\", beta=5)\n",
    "# vae = GecoVAE(InvertedResidualVAEModel(z_dim, num_channels), tolerance=10./255., lbd_step=500, beta=2.0, tag=\"dsprites_logits_tol10_beta2\")\n",
    "# vae = GecoVAE(VAEModule(GaussianLeakyConv64(z_dim, num_channels, image_size), LeakyConv64Decoder(z_dim, num_channels, image_size)), tolerance=5./255., lbd_step=100, tag=\"dsprites_simple\")\n",
    "# vae = AnnealedVAE(InvertedResidualVAEModel(z_dim, num_channels), gamma=100.0, max_c=20, iterations_c=1e5/batch_size*64, reconstruction='mse_logits', tag=\"dsprites_mse_logits\")\n",
    "# vae = AnnealedVAE(VAEModule(GaussianLeakyConv64(z_dim, num_channels, image_size), LeakyConv64Decoder(z_dim, num_channels, image_size)), gamma=50.0, max_c=20, iterations_c=1e5/batch_size*64, reconstruction='mse', tag=\"dsprites_leakysimple_mse\")\n",
    "\n",
    "vae = BetaTCVAE(InvertedResidualVAEModel(z_dim, num_channels), beta=5.0, tag=\"dsprites\")\n",
    "# vae = GecoVAE(InvertedResidualVAEModel(z_dim, num_channels), tolerance=10./255., lbd_step=500, lambda_init=0.1, beta=1.0, tag=\"dsprites_tol20_lmb.1\")\n",
    "\n",
    "vae.model.activation"
   ]
  },
  {
   "cell_type": "code",
   "execution_count": 6,
   "metadata": {},
   "outputs": [],
   "source": [
    "vae.initOptimizer(lr=5e-4) #, betas=(0.9,0.999)"
   ]
  },
  {
   "cell_type": "code",
   "execution_count": 7,
   "metadata": {},
   "outputs": [
    {
     "name": "stderr",
     "output_type": "stream",
     "text": [
      "100%|██████████| 2160/2160 [06:30<00:00,  5.53it/s]\n",
      "  0%|          | 3/720 [00:00<00:26, 26.63it/s]"
     ]
    },
    {
     "name": "stdout",
     "output_type": "stream",
     "text": [
      "{'epoch': 0, 'step': 2160, 'loss': 22.963196, 'last_save': None}\n"
     ]
    },
    {
     "name": "stderr",
     "output_type": "stream",
     "text": [
      "100%|██████████| 720/720 [00:36<00:00, 19.82it/s]\n",
      "C:\\Users\\szapl\\miniconda3\\envs\\carla_disentanglement\\lib\\site-packages\\sklearn\\linear_model\\_logistic.py:765: ConvergenceWarning: lbfgs failed to converge (status=1):\n",
      "STOP: TOTAL NO. of ITERATIONS REACHED LIMIT.\n",
      "\n",
      "Increase the number of iterations (max_iter) or scale the data as shown in:\n",
      "    https://scikit-learn.org/stable/modules/preprocessing.html\n",
      "Please also refer to the documentation for alternative solver options:\n",
      "    https://scikit-learn.org/stable/modules/linear_model.html#logistic-regression\n",
      "  extra_warning_msg=_LOGISTIC_SOLVER_CONVERGENCE_MSG)\n"
     ]
    },
    {
     "name": "stdout",
     "output_type": "stream",
     "text": [
      "0.05\n"
     ]
    },
    {
     "name": "stderr",
     "output_type": "stream",
     "text": [
      "  0%|          | 0/2160 [00:00<?, ?it/s]"
     ]
    },
    {
     "name": "stdout",
     "output_type": "stream",
     "text": [
      "{'beta_vae_score': {'train_accuracy': 0.5433, 'eval_accuracy': 0.5304}, 'factor_vae_score': {'train_accuracy': 0.3614, 'eval_accuracy': 0.3522, 'num_active_dims': 10}}\n"
     ]
    },
    {
     "name": "stderr",
     "output_type": "stream",
     "text": [
      "100%|██████████| 2160/2160 [06:28<00:00,  5.56it/s]\n",
      "  0%|          | 3/720 [00:00<00:27, 26.46it/s]"
     ]
    },
    {
     "name": "stdout",
     "output_type": "stream",
     "text": [
      "{'epoch': 1, 'step': 4320, 'loss': -89.60785, 'last_save': 'vae_1_2021-11-15_09-30-05_-89.60785.save'}\n"
     ]
    },
    {
     "name": "stderr",
     "output_type": "stream",
     "text": [
      "100%|██████████| 720/720 [00:36<00:00, 19.57it/s]\n",
      "100%|██████████| 2160/2160 [06:32<00:00,  5.51it/s]\n",
      "  0%|          | 3/720 [00:00<00:27, 26.40it/s]"
     ]
    },
    {
     "name": "stdout",
     "output_type": "stream",
     "text": [
      "{'epoch': 2, 'step': 6480, 'loss': -100.17364, 'last_save': 'vae_2_2021-11-15_09-37-14_-100.17364.save'}\n"
     ]
    },
    {
     "name": "stderr",
     "output_type": "stream",
     "text": [
      "100%|██████████| 720/720 [00:36<00:00, 19.73it/s]\n",
      "100%|██████████| 2160/2160 [06:28<00:00,  5.56it/s]\n",
      "  0%|          | 3/720 [00:00<00:29, 24.57it/s]"
     ]
    },
    {
     "name": "stdout",
     "output_type": "stream",
     "text": [
      "{'epoch': 3, 'step': 8640, 'loss': -104.5669, 'last_save': 'vae_3_2021-11-15_09-44-20_-104.5669.save'}\n"
     ]
    },
    {
     "name": "stderr",
     "output_type": "stream",
     "text": [
      "100%|██████████| 720/720 [00:36<00:00, 19.83it/s]\n",
      "100%|██████████| 2160/2160 [06:27<00:00,  5.57it/s]\n",
      "  0%|          | 3/720 [00:00<00:27, 26.40it/s]"
     ]
    },
    {
     "name": "stdout",
     "output_type": "stream",
     "text": [
      "{'epoch': 4, 'step': 10800, 'loss': -106.99785, 'last_save': 'vae_4_2021-11-15_09-51-24_-106.99785.save'}\n"
     ]
    },
    {
     "name": "stderr",
     "output_type": "stream",
     "text": [
      "100%|██████████| 720/720 [00:35<00:00, 20.07it/s]\n",
      "100%|██████████| 2160/2160 [06:28<00:00,  5.56it/s]\n",
      "  0%|          | 3/720 [00:00<00:27, 26.21it/s]"
     ]
    },
    {
     "name": "stdout",
     "output_type": "stream",
     "text": [
      "{'epoch': 5, 'step': 12960, 'loss': -108.88432, 'last_save': 'vae_5_2021-11-15_09-58-29_-108.88432.save'}\n"
     ]
    },
    {
     "name": "stderr",
     "output_type": "stream",
     "text": [
      "100%|██████████| 720/720 [00:36<00:00, 19.98it/s]\n",
      "100%|██████████| 2160/2160 [06:28<00:00,  5.57it/s]\n",
      "  0%|          | 3/720 [00:00<00:27, 26.27it/s]"
     ]
    },
    {
     "name": "stdout",
     "output_type": "stream",
     "text": [
      "{'epoch': 6, 'step': 15120, 'loss': -110.458725, 'last_save': 'vae_6_2021-11-15_10-05-33_-110.458725.save'}\n"
     ]
    },
    {
     "name": "stderr",
     "output_type": "stream",
     "text": [
      "100%|██████████| 720/720 [00:36<00:00, 19.89it/s]\n",
      "100%|██████████| 2160/2160 [06:27<00:00,  5.57it/s]\n",
      "  1%|          | 5/720 [00:00<00:29, 23.98it/s]"
     ]
    },
    {
     "name": "stdout",
     "output_type": "stream",
     "text": [
      "{'epoch': 7, 'step': 17280, 'loss': -111.80357, 'last_save': 'vae_7_2021-11-15_10-12-37_-111.80357.save'}\n"
     ]
    },
    {
     "name": "stderr",
     "output_type": "stream",
     "text": [
      "100%|██████████| 720/720 [00:35<00:00, 20.11it/s]\n",
      "100%|██████████| 2160/2160 [06:27<00:00,  5.57it/s]\n",
      "  0%|          | 3/720 [00:00<00:27, 25.84it/s]"
     ]
    },
    {
     "name": "stdout",
     "output_type": "stream",
     "text": [
      "{'epoch': 8, 'step': 19440, 'loss': -113.14081, 'last_save': 'vae_8_2021-11-15_10-19-41_-113.14081.save'}\n"
     ]
    },
    {
     "name": "stderr",
     "output_type": "stream",
     "text": [
      "100%|██████████| 720/720 [00:36<00:00, 19.99it/s]\n",
      "100%|██████████| 2160/2160 [06:31<00:00,  5.52it/s]\n",
      "  1%|          | 5/720 [00:00<00:29, 23.84it/s]"
     ]
    },
    {
     "name": "stdout",
     "output_type": "stream",
     "text": [
      "{'epoch': 9, 'step': 21600, 'loss': -114.67271, 'last_save': 'vae_9_2021-11-15_10-26-49_-114.67271.save'}\n"
     ]
    },
    {
     "name": "stderr",
     "output_type": "stream",
     "text": [
      "100%|██████████| 720/720 [00:36<00:00, 19.92it/s]\n",
      "100%|██████████| 2160/2160 [06:29<00:00,  5.55it/s]\n",
      "  0%|          | 3/720 [00:00<00:26, 26.63it/s]"
     ]
    },
    {
     "name": "stdout",
     "output_type": "stream",
     "text": [
      "{'epoch': 10, 'step': 23760, 'loss': -116.073, 'last_save': 'vae_10_2021-11-15_10-33-54_-116.073.save'}\n"
     ]
    },
    {
     "name": "stderr",
     "output_type": "stream",
     "text": [
      "100%|██████████| 720/720 [00:35<00:00, 20.05it/s]\n",
      "C:\\Users\\szapl\\miniconda3\\envs\\carla_disentanglement\\lib\\site-packages\\sklearn\\linear_model\\_logistic.py:765: ConvergenceWarning: lbfgs failed to converge (status=1):\n",
      "STOP: TOTAL NO. of ITERATIONS REACHED LIMIT.\n",
      "\n",
      "Increase the number of iterations (max_iter) or scale the data as shown in:\n",
      "    https://scikit-learn.org/stable/modules/preprocessing.html\n",
      "Please also refer to the documentation for alternative solver options:\n",
      "    https://scikit-learn.org/stable/modules/linear_model.html#logistic-regression\n",
      "  extra_warning_msg=_LOGISTIC_SOLVER_CONVERGENCE_MSG)\n"
     ]
    },
    {
     "name": "stdout",
     "output_type": "stream",
     "text": [
      "0.05\n"
     ]
    },
    {
     "name": "stderr",
     "output_type": "stream",
     "text": [
      "  0%|          | 0/2160 [00:00<?, ?it/s]"
     ]
    },
    {
     "name": "stdout",
     "output_type": "stream",
     "text": [
      "{'beta_vae_score': {'train_accuracy': 0.5523, 'eval_accuracy': 0.5458}, 'factor_vae_score': {'train_accuracy': 0.4316, 'eval_accuracy': 0.4256, 'num_active_dims': 10}}\n"
     ]
    },
    {
     "name": "stderr",
     "output_type": "stream",
     "text": [
      "100%|██████████| 2160/2160 [06:27<00:00,  5.57it/s]\n",
      "  0%|          | 3/720 [00:00<00:30, 23.60it/s]"
     ]
    },
    {
     "name": "stdout",
     "output_type": "stream",
     "text": [
      "{'epoch': 11, 'step': 25920, 'loss': -117.31885, 'last_save': 'vae_11_2021-11-15_10-44-55_-117.31885.save'}\n"
     ]
    },
    {
     "name": "stderr",
     "output_type": "stream",
     "text": [
      "100%|██████████| 720/720 [00:37<00:00, 19.41it/s]\n",
      "100%|██████████| 2160/2160 [06:29<00:00,  5.54it/s]\n",
      "  0%|          | 3/720 [00:00<00:28, 24.77it/s]"
     ]
    },
    {
     "name": "stdout",
     "output_type": "stream",
     "text": [
      "{'epoch': 12, 'step': 28080, 'loss': -118.44498, 'last_save': 'vae_12_2021-11-15_10-52-02_-118.44498.save'}\n"
     ]
    },
    {
     "name": "stderr",
     "output_type": "stream",
     "text": [
      "100%|██████████| 720/720 [00:36<00:00, 19.70it/s]\n",
      "100%|██████████| 2160/2160 [06:29<00:00,  5.54it/s]\n",
      "  0%|          | 3/720 [00:00<00:27, 26.01it/s]"
     ]
    },
    {
     "name": "stdout",
     "output_type": "stream",
     "text": [
      "{'epoch': 13, 'step': 30240, 'loss': -119.225784, 'last_save': 'vae_13_2021-11-15_10-59-08_-119.225784.save'}\n"
     ]
    },
    {
     "name": "stderr",
     "output_type": "stream",
     "text": [
      "100%|██████████| 720/720 [00:36<00:00, 19.57it/s]\n",
      "100%|██████████| 2160/2160 [06:27<00:00,  5.57it/s]\n",
      "  0%|          | 3/720 [00:00<00:26, 26.68it/s]"
     ]
    },
    {
     "name": "stdout",
     "output_type": "stream",
     "text": [
      "{'epoch': 14, 'step': 32400, 'loss': -119.92819, 'last_save': 'vae_14_2021-11-15_11-06-13_-119.92819.save'}\n"
     ]
    },
    {
     "name": "stderr",
     "output_type": "stream",
     "text": [
      "100%|██████████| 720/720 [00:33<00:00, 21.59it/s]\n",
      "100%|██████████| 2160/2160 [06:24<00:00,  5.61it/s]\n",
      "  0%|          | 3/720 [00:00<00:27, 26.02it/s]"
     ]
    },
    {
     "name": "stdout",
     "output_type": "stream",
     "text": [
      "{'epoch': 15, 'step': 34560, 'loss': -120.731064, 'last_save': 'vae_15_2021-11-15_11-13-12_-120.731064.save'}\n"
     ]
    },
    {
     "name": "stderr",
     "output_type": "stream",
     "text": [
      "100%|██████████| 720/720 [00:35<00:00, 20.16it/s]\n",
      "100%|██████████| 2160/2160 [06:28<00:00,  5.55it/s]\n",
      "  0%|          | 3/720 [00:00<00:27, 26.52it/s]"
     ]
    },
    {
     "name": "stdout",
     "output_type": "stream",
     "text": [
      "{'epoch': 16, 'step': 36720, 'loss': -121.231705, 'last_save': 'vae_16_2021-11-15_11-20-16_-121.231705.save'}\n"
     ]
    },
    {
     "name": "stderr",
     "output_type": "stream",
     "text": [
      "100%|██████████| 720/720 [00:36<00:00, 19.76it/s]\n",
      "100%|██████████| 2160/2160 [06:30<00:00,  5.53it/s]\n",
      "  0%|          | 3/720 [00:00<00:28, 25.40it/s]"
     ]
    },
    {
     "name": "stdout",
     "output_type": "stream",
     "text": [
      "{'epoch': 17, 'step': 38880, 'loss': -121.75877, 'last_save': 'vae_17_2021-11-15_11-27-23_-121.75877.save'}\n"
     ]
    },
    {
     "name": "stderr",
     "output_type": "stream",
     "text": [
      "100%|██████████| 720/720 [00:36<00:00, 19.82it/s]\n",
      "100%|██████████| 2160/2160 [06:31<00:00,  5.52it/s]\n",
      "  0%|          | 3/720 [00:00<00:26, 26.76it/s]"
     ]
    },
    {
     "name": "stdout",
     "output_type": "stream",
     "text": [
      "{'epoch': 18, 'step': 41040, 'loss': -122.182884, 'last_save': 'vae_18_2021-11-15_11-34-31_-122.182884.save'}\n"
     ]
    },
    {
     "name": "stderr",
     "output_type": "stream",
     "text": [
      "100%|██████████| 720/720 [00:36<00:00, 19.86it/s]\n",
      "100%|██████████| 2160/2160 [06:32<00:00,  5.50it/s]\n",
      "  0%|          | 3/720 [00:00<00:28, 25.34it/s]"
     ]
    },
    {
     "name": "stdout",
     "output_type": "stream",
     "text": [
      "{'epoch': 19, 'step': 43200, 'loss': -122.73865, 'last_save': 'vae_19_2021-11-15_11-41-41_-122.73865.save'}\n"
     ]
    },
    {
     "name": "stderr",
     "output_type": "stream",
     "text": [
      "100%|██████████| 720/720 [00:35<00:00, 20.04it/s]\n",
      "100%|██████████| 2160/2160 [06:27<00:00,  5.58it/s]\n",
      "  0%|          | 3/720 [00:00<00:28, 24.90it/s]"
     ]
    },
    {
     "name": "stdout",
     "output_type": "stream",
     "text": [
      "{'epoch': 20, 'step': 45360, 'loss': -123.048775, 'last_save': 'vae_20_2021-11-15_11-48-44_-123.048775.save'}\n"
     ]
    },
    {
     "name": "stderr",
     "output_type": "stream",
     "text": [
      "100%|██████████| 720/720 [00:36<00:00, 19.95it/s]\n",
      "C:\\Users\\szapl\\miniconda3\\envs\\carla_disentanglement\\lib\\site-packages\\sklearn\\linear_model\\_logistic.py:765: ConvergenceWarning: lbfgs failed to converge (status=1):\n",
      "STOP: TOTAL NO. of ITERATIONS REACHED LIMIT.\n",
      "\n",
      "Increase the number of iterations (max_iter) or scale the data as shown in:\n",
      "    https://scikit-learn.org/stable/modules/preprocessing.html\n",
      "Please also refer to the documentation for alternative solver options:\n",
      "    https://scikit-learn.org/stable/modules/linear_model.html#logistic-regression\n",
      "  extra_warning_msg=_LOGISTIC_SOLVER_CONVERGENCE_MSG)\n"
     ]
    },
    {
     "name": "stdout",
     "output_type": "stream",
     "text": [
      "0.05\n"
     ]
    },
    {
     "name": "stderr",
     "output_type": "stream",
     "text": [
      "  0%|          | 0/2160 [00:00<?, ?it/s]"
     ]
    },
    {
     "name": "stdout",
     "output_type": "stream",
     "text": [
      "{'beta_vae_score': {'train_accuracy': 0.573, 'eval_accuracy': 0.573}, 'factor_vae_score': {'train_accuracy': 0.4431, 'eval_accuracy': 0.4382, 'num_active_dims': 10}}\n"
     ]
    },
    {
     "name": "stderr",
     "output_type": "stream",
     "text": [
      "100%|██████████| 2160/2160 [06:22<00:00,  5.65it/s]\n",
      "  0%|          | 3/720 [00:00<00:27, 26.52it/s]"
     ]
    },
    {
     "name": "stdout",
     "output_type": "stream",
     "text": [
      "{'epoch': 21, 'step': 47520, 'loss': -123.440155, 'last_save': 'vae_21_2021-11-15_11-59-48_-123.440155.save'}\n"
     ]
    },
    {
     "name": "stderr",
     "output_type": "stream",
     "text": [
      "100%|██████████| 720/720 [00:34<00:00, 21.14it/s]\n",
      "100%|██████████| 2160/2160 [06:03<00:00,  5.93it/s]\n",
      "  0%|          | 3/720 [00:00<00:27, 26.06it/s]"
     ]
    },
    {
     "name": "stdout",
     "output_type": "stream",
     "text": [
      "{'epoch': 22, 'step': 49680, 'loss': -123.782684, 'last_save': 'vae_22_2021-11-15_12-06-26_-123.782684.save'}\n"
     ]
    },
    {
     "name": "stderr",
     "output_type": "stream",
     "text": [
      "100%|██████████| 720/720 [00:34<00:00, 21.11it/s]\n",
      "100%|██████████| 2160/2160 [06:03<00:00,  5.94it/s]\n",
      "  0%|          | 3/720 [00:00<00:27, 25.84it/s]"
     ]
    },
    {
     "name": "stdout",
     "output_type": "stream",
     "text": [
      "{'epoch': 23, 'step': 51840, 'loss': -124.13162, 'last_save': 'vae_23_2021-11-15_12-13-04_-124.13162.save'}\n"
     ]
    },
    {
     "name": "stderr",
     "output_type": "stream",
     "text": [
      "100%|██████████| 720/720 [00:35<00:00, 20.27it/s]\n",
      "100%|██████████| 2160/2160 [06:27<00:00,  5.57it/s]\n",
      "  0%|          | 3/720 [00:00<00:28, 24.77it/s]"
     ]
    },
    {
     "name": "stdout",
     "output_type": "stream",
     "text": [
      "{'epoch': 24, 'step': 54000, 'loss': -124.41002, 'last_save': 'vae_24_2021-11-15_12-20-07_-124.41002.save'}\n"
     ]
    },
    {
     "name": "stderr",
     "output_type": "stream",
     "text": [
      "100%|██████████| 720/720 [00:35<00:00, 20.07it/s]\n",
      "100%|██████████| 2160/2160 [06:28<00:00,  5.56it/s]\n",
      "  0%|          | 3/720 [00:00<00:28, 25.19it/s]"
     ]
    },
    {
     "name": "stdout",
     "output_type": "stream",
     "text": [
      "{'epoch': 25, 'step': 56160, 'loss': -124.74594, 'last_save': 'vae_25_2021-11-15_12-27-12_-124.74594.save'}\n"
     ]
    },
    {
     "name": "stderr",
     "output_type": "stream",
     "text": [
      "100%|██████████| 720/720 [00:35<00:00, 20.06it/s]\n",
      "100%|██████████| 2160/2160 [06:28<00:00,  5.57it/s]\n",
      "  0%|          | 3/720 [00:00<00:28, 25.17it/s]"
     ]
    },
    {
     "name": "stdout",
     "output_type": "stream",
     "text": [
      "{'epoch': 26, 'step': 58320, 'loss': -125.09801, 'last_save': 'vae_26_2021-11-15_12-34-16_-125.09801.save'}\n"
     ]
    },
    {
     "name": "stderr",
     "output_type": "stream",
     "text": [
      "100%|██████████| 720/720 [00:36<00:00, 19.77it/s]\n",
      "100%|██████████| 2160/2160 [06:30<00:00,  5.53it/s]\n",
      "  0%|          | 3/720 [00:00<00:28, 24.98it/s]"
     ]
    },
    {
     "name": "stdout",
     "output_type": "stream",
     "text": [
      "{'epoch': 27, 'step': 60480, 'loss': -125.32538, 'last_save': 'vae_27_2021-11-15_12-41-23_-125.32538.save'}\n"
     ]
    },
    {
     "name": "stderr",
     "output_type": "stream",
     "text": [
      "100%|██████████| 720/720 [00:36<00:00, 19.83it/s]\n",
      "100%|██████████| 2160/2160 [06:27<00:00,  5.57it/s]\n",
      "  0%|          | 3/720 [00:00<00:28, 24.98it/s]"
     ]
    },
    {
     "name": "stdout",
     "output_type": "stream",
     "text": [
      "{'epoch': 28, 'step': 62640, 'loss': -125.586395, 'last_save': 'vae_28_2021-11-15_12-48-27_-125.586395.save'}\n"
     ]
    },
    {
     "name": "stderr",
     "output_type": "stream",
     "text": [
      "100%|██████████| 720/720 [00:35<00:00, 20.05it/s]\n",
      "100%|██████████| 2160/2160 [06:25<00:00,  5.60it/s]\n",
      "  1%|          | 5/720 [00:00<00:31, 22.96it/s]"
     ]
    },
    {
     "name": "stdout",
     "output_type": "stream",
     "text": [
      "{'epoch': 29, 'step': 64800, 'loss': -125.94836, 'last_save': 'vae_29_2021-11-15_12-55-29_-125.94836.save'}\n"
     ]
    },
    {
     "name": "stderr",
     "output_type": "stream",
     "text": [
      "100%|██████████| 720/720 [00:35<00:00, 20.09it/s]\n",
      "100%|██████████| 2160/2160 [06:25<00:00,  5.60it/s]\n",
      "  0%|          | 3/720 [00:00<00:28, 25.19it/s]"
     ]
    },
    {
     "name": "stdout",
     "output_type": "stream",
     "text": [
      "{'epoch': 30, 'step': 66960, 'loss': -126.326035, 'last_save': 'vae_30_2021-11-15_13-02-31_-126.326035.save'}\n"
     ]
    },
    {
     "name": "stderr",
     "output_type": "stream",
     "text": [
      "100%|██████████| 720/720 [00:35<00:00, 20.06it/s]\n",
      "C:\\Users\\szapl\\miniconda3\\envs\\carla_disentanglement\\lib\\site-packages\\sklearn\\linear_model\\_logistic.py:765: ConvergenceWarning: lbfgs failed to converge (status=1):\n",
      "STOP: TOTAL NO. of ITERATIONS REACHED LIMIT.\n",
      "\n",
      "Increase the number of iterations (max_iter) or scale the data as shown in:\n",
      "    https://scikit-learn.org/stable/modules/preprocessing.html\n",
      "Please also refer to the documentation for alternative solver options:\n",
      "    https://scikit-learn.org/stable/modules/linear_model.html#logistic-regression\n",
      "  extra_warning_msg=_LOGISTIC_SOLVER_CONVERGENCE_MSG)\n"
     ]
    },
    {
     "name": "stdout",
     "output_type": "stream",
     "text": [
      "0.05\n"
     ]
    },
    {
     "name": "stderr",
     "output_type": "stream",
     "text": [
      "  0%|          | 0/2160 [00:00<?, ?it/s]"
     ]
    },
    {
     "name": "stdout",
     "output_type": "stream",
     "text": [
      "{'beta_vae_score': {'train_accuracy': 0.587, 'eval_accuracy': 0.5914}, 'factor_vae_score': {'train_accuracy': 0.472, 'eval_accuracy': 0.4684, 'num_active_dims': 10}}\n"
     ]
    },
    {
     "name": "stderr",
     "output_type": "stream",
     "text": [
      "100%|██████████| 2160/2160 [07:02<00:00,  5.11it/s]\n",
      "  0%|          | 3/720 [00:00<00:31, 22.64it/s]"
     ]
    },
    {
     "name": "stdout",
     "output_type": "stream",
     "text": [
      "{'epoch': 31, 'step': 69120, 'loss': -126.63564, 'last_save': 'vae_31_2021-11-15_13-14-03_-126.63564.save'}\n"
     ]
    },
    {
     "name": "stderr",
     "output_type": "stream",
     "text": [
      "100%|██████████| 720/720 [00:39<00:00, 18.16it/s]\n",
      "100%|██████████| 2160/2160 [06:50<00:00,  5.26it/s]\n",
      "  0%|          | 3/720 [00:00<00:30, 23.60it/s]"
     ]
    },
    {
     "name": "stdout",
     "output_type": "stream",
     "text": [
      "{'epoch': 32, 'step': 71280, 'loss': -126.91467, 'last_save': 'vae_32_2021-11-15_13-21-33_-126.91467.save'}\n"
     ]
    },
    {
     "name": "stderr",
     "output_type": "stream",
     "text": [
      "100%|██████████| 720/720 [00:37<00:00, 18.96it/s]\n",
      "100%|██████████| 2160/2160 [06:44<00:00,  5.34it/s]\n",
      "  0%|          | 3/720 [00:00<00:29, 23.98it/s]"
     ]
    },
    {
     "name": "stdout",
     "output_type": "stream",
     "text": [
      "{'epoch': 33, 'step': 73440, 'loss': -127.22804, 'last_save': 'vae_33_2021-11-15_13-28-56_-127.22804.save'}\n"
     ]
    },
    {
     "name": "stderr",
     "output_type": "stream",
     "text": [
      "100%|██████████| 720/720 [00:38<00:00, 18.87it/s]\n",
      "100%|██████████| 2160/2160 [06:36<00:00,  5.45it/s]\n",
      "  0%|          | 3/720 [00:00<00:28, 25.19it/s]"
     ]
    },
    {
     "name": "stdout",
     "output_type": "stream",
     "text": [
      "{'epoch': 34, 'step': 75600, 'loss': -127.68698, 'last_save': 'vae_34_2021-11-15_13-36-11_-127.68698.save'}\n"
     ]
    },
    {
     "name": "stderr",
     "output_type": "stream",
     "text": [
      "100%|██████████| 720/720 [00:36<00:00, 19.99it/s]\n",
      "100%|██████████| 2160/2160 [06:26<00:00,  5.59it/s]\n",
      "  0%|          | 3/720 [00:00<00:28, 24.77it/s]"
     ]
    },
    {
     "name": "stdout",
     "output_type": "stream",
     "text": [
      "{'epoch': 35, 'step': 77760, 'loss': -127.93097, 'last_save': 'vae_35_2021-11-15_13-43-13_-127.93097.save'}\n"
     ]
    },
    {
     "name": "stderr",
     "output_type": "stream",
     "text": [
      "100%|██████████| 720/720 [00:35<00:00, 20.01it/s]\n",
      "100%|██████████| 2160/2160 [06:26<00:00,  5.59it/s]\n",
      "  0%|          | 3/720 [00:00<00:28, 24.77it/s]"
     ]
    },
    {
     "name": "stdout",
     "output_type": "stream",
     "text": [
      "{'epoch': 36, 'step': 79920, 'loss': -128.25864, 'last_save': 'vae_36_2021-11-15_13-50-16_-128.25864.save'}\n"
     ]
    },
    {
     "name": "stderr",
     "output_type": "stream",
     "text": [
      "100%|██████████| 720/720 [00:35<00:00, 20.01it/s]\n",
      "100%|██████████| 2160/2160 [06:26<00:00,  5.59it/s]\n",
      "  0%|          | 3/720 [00:00<00:29, 24.57it/s]"
     ]
    },
    {
     "name": "stdout",
     "output_type": "stream",
     "text": [
      "{'epoch': 37, 'step': 82080, 'loss': -128.55064, 'last_save': 'vae_37_2021-11-15_13-57-18_-128.55064.save'}\n"
     ]
    },
    {
     "name": "stderr",
     "output_type": "stream",
     "text": [
      "100%|██████████| 720/720 [00:35<00:00, 20.02it/s]\n",
      "100%|██████████| 2160/2160 [06:26<00:00,  5.59it/s]\n",
      "  0%|          | 3/720 [00:00<00:29, 24.35it/s]"
     ]
    },
    {
     "name": "stdout",
     "output_type": "stream",
     "text": [
      "{'epoch': 38, 'step': 84240, 'loss': -128.83498, 'last_save': 'vae_38_2021-11-15_14-04-21_-128.83498.save'}\n"
     ]
    },
    {
     "name": "stderr",
     "output_type": "stream",
     "text": [
      "100%|██████████| 720/720 [00:35<00:00, 20.06it/s]\n",
      "100%|██████████| 2160/2160 [06:27<00:00,  5.58it/s]\n",
      "  0%|          | 3/720 [00:00<00:28, 24.77it/s]"
     ]
    },
    {
     "name": "stdout",
     "output_type": "stream",
     "text": [
      "{'epoch': 39, 'step': 86400, 'loss': -129.07846, 'last_save': 'vae_39_2021-11-15_14-11-24_-129.07846.save'}\n"
     ]
    },
    {
     "name": "stderr",
     "output_type": "stream",
     "text": [
      "100%|██████████| 720/720 [00:36<00:00, 19.55it/s]\n",
      "100%|██████████| 2160/2160 [06:33<00:00,  5.49it/s]\n",
      "  0%|          | 3/720 [00:00<00:30, 23.15it/s]"
     ]
    },
    {
     "name": "stdout",
     "output_type": "stream",
     "text": [
      "{'epoch': 40, 'step': 88560, 'loss': -129.38367, 'last_save': 'vae_40_2021-11-15_14-18-34_-129.38367.save'}\n"
     ]
    },
    {
     "name": "stderr",
     "output_type": "stream",
     "text": [
      "100%|██████████| 720/720 [00:37<00:00, 19.34it/s]\n",
      "C:\\Users\\szapl\\miniconda3\\envs\\carla_disentanglement\\lib\\site-packages\\sklearn\\linear_model\\_logistic.py:765: ConvergenceWarning: lbfgs failed to converge (status=1):\n",
      "STOP: TOTAL NO. of ITERATIONS REACHED LIMIT.\n",
      "\n",
      "Increase the number of iterations (max_iter) or scale the data as shown in:\n",
      "    https://scikit-learn.org/stable/modules/preprocessing.html\n",
      "Please also refer to the documentation for alternative solver options:\n",
      "    https://scikit-learn.org/stable/modules/linear_model.html#logistic-regression\n",
      "  extra_warning_msg=_LOGISTIC_SOLVER_CONVERGENCE_MSG)\n"
     ]
    },
    {
     "name": "stdout",
     "output_type": "stream",
     "text": [
      "0.05\n",
      "{'beta_vae_score': {'train_accuracy': 0.5907, 'eval_accuracy': 0.5892}, 'factor_vae_score': {'train_accuracy': 0.4849, 'eval_accuracy': 0.48, 'num_active_dims': 10}}\n",
      "saved vae_2021-11-15_14-23-33_-129.38367.save\n"
     ]
    }
   ],
   "source": [
    "vae.train(ds, epochs=41, reconstruction_every=1, eval_every=1, save_every=10, score_every=10, batch_size=batch_size, num_workers=0, reconstruct_indices=[0,4300, 200000, -554, -20000, int(737280/2+500)])"
   ]
  },
  {
   "cell_type": "code",
   "execution_count": 8,
   "metadata": {},
   "outputs": [],
   "source": [
    "_ = vae.model.eval()"
   ]
  },
  {
   "cell_type": "code",
   "execution_count": 9,
   "metadata": {},
   "outputs": [
    {
     "data": {
      "image/png": "[encoded data removed]",
      "text/plain": [
       "<PIL.Image.Image image mode=L size=390x128 at 0x22495700308>"
      ]
     },
     "execution_count": 9,
     "metadata": {},
     "output_type": "execute_result"
    }
   ],
   "source": [
    "vae.visualize_reconstruction(ds, indices=[0,4300, 200000, -554, -20000, int(737280/2+500)])"
   ]
  },
  {
   "cell_type": "code",
   "execution_count": 10,
   "metadata": {},
   "outputs": [
    {
     "data": {
      "text/plain": [
       "'./viz/vae_2021-11-15_14-23-33.gif'"
      ]
     },
     "execution_count": 10,
     "metadata": {},
     "output_type": "execute_result"
    }
   ],
   "source": [
    "vae.visualize_latents(ds, index=0)"
   ]
  },
  {
   "cell_type": "code",
   "execution_count": 11,
   "metadata": {},
   "outputs": [
    {
     "data": {
      "text/plain": [
       "'./viz/vae_2021-11-15_14-23-34.gif'"
      ]
     },
     "execution_count": 11,
     "metadata": {},
     "output_type": "execute_result"
    }
   ],
   "source": [
    "vae.visualize_latents(ds, index=-554)"
   ]
  },
  {
   "cell_type": "code",
   "execution_count": null,
   "metadata": {},
   "outputs": [],
   "source": []
  }
 ],
 "metadata": {
  "interpreter": {
   "hash": "376c552cebb382e2be390b797e042089a374e3fa7ee98255c61a2c1ffbc8acc5"
  },
  "kernelspec": {
   "display_name": "Python 3.7.9 64-bit ('carla_disentanglement': conda)",
   "name": "python3"
  },
  "language_info": {
   "codemirror_mode": {
    "name": "ipython",
    "version": 3
   },
   "file_extension": ".py",
   "mimetype": "text/x-python",
   "name": "python",
   "nbconvert_exporter": "python",
   "pygments_lexer": "ipython3",
   "version": "3.7.9"
  },
  "orig_nbformat": 2
 },
 "nbformat": 4,
 "nbformat_minor": 2
}
