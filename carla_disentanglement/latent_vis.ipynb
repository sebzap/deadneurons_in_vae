{
 "metadata": {
  "language_info": {
   "codemirror_mode": {
    "name": "ipython",
    "version": 3
   },
   "file_extension": ".py",
   "mimetype": "text/x-python",
   "name": "python",
   "nbconvert_exporter": "python",
   "pygments_lexer": "ipython3",
   "version": "3.7.9-final"
  },
  "orig_nbformat": 2,
  "kernelspec": {
   "name": "python3",
   "display_name": "Python 3.7.9 64-bit ('carla_disentanglement': conda)",
   "metadata": {
    "interpreter": {
     "hash": "376c552cebb382e2be390b797e042089a374e3fa7ee98255c61a2c1ffbc8acc5"
    }
   }
  }
 },
 "nbformat": 4,
 "nbformat_minor": 2,
 "cells": [
  {
   "cell_type": "code",
   "execution_count": 93,
   "metadata": {},
   "outputs": [],
   "source": [
    "import torch\n",
    "from torch import nn\n",
    "import torch.optim as optim\n",
    "import torch.nn.init as init\n",
    "import torch.nn.functional as F"
   ]
  },
  {
   "cell_type": "code",
   "execution_count": 94,
   "metadata": {},
   "outputs": [],
   "source": [
    "def reparametrize(mu, logvar):\n",
    "    std = logvar.mul(0.5).exp_()\n",
    "    eps = std.data.new(std.size()).normal_()\n",
    "    return eps.mul(std).add_(mu)\n",
    "\n",
    "class VAEModel(nn.Module):\n",
    "    def __init__(self, encoder, decoder):\n",
    "        super().__init__()\n",
    "\n",
    "        self.encoder = encoder\n",
    "        self.decoder = decoder\n",
    "\n",
    "    def encode(self, x, **kwargs):\n",
    "        return self.encoder(x)\n",
    "\n",
    "    def decode(self, z, **kwargs):\n",
    "        return torch.sigmoid(self.decoder(z))\n",
    "\n",
    "    def forward(self, x, **kwargs):\n",
    "        mu, logvar = self.encode(x)\n",
    "        z = reparametrize(mu, logvar)\n",
    "        #NOTE: we use decodeR(!) here not decode so we can use BCEWithLogitsLoss\n",
    "        return self.decoder(z), (mu, logvar)\n",
    "\n",
    "class Flatten3D(nn.Module):\n",
    "    def forward(self, x):\n",
    "        x = x.view(x.size()[0], -1)\n",
    "        return x\n",
    "\n",
    "class Unsqueeze3D(nn.Module):\n",
    "    def forward(self, x):\n",
    "        x = x.unsqueeze(-1)\n",
    "        x = x.unsqueeze(-1)\n",
    "        return x\n",
    "\n",
    "def _init_layer(m):\n",
    "    if isinstance(m, torch.nn.Conv2d) or isinstance(m, torch.nn.ConvTranspose2d):\n",
    "        init.xavier_normal_(m.weight.data)\n",
    "    if isinstance(m, torch.nn.Linear):\n",
    "        init.kaiming_normal_(m.weight.data)\n",
    "\n",
    "\n",
    "def init_layers(modules):\n",
    "    for block in modules:\n",
    "        from collections.abc import Iterable\n",
    "        if isinstance(modules[block], Iterable):\n",
    "            for m in modules[block]:\n",
    "                _init_layer(m)\n",
    "        else:\n",
    "            _init_layer(modules[block])"
   ]
  },
  {
   "cell_type": "code",
   "execution_count": 95,
   "metadata": {},
   "outputs": [],
   "source": [
    "class BaseImageEncoder(nn.Module):\n",
    "    def __init__(self, latent_dim, num_channels, image_size):\n",
    "        super().__init__()\n",
    "\n",
    "        self._latent_dim = latent_dim\n",
    "        self._num_channels = num_channels\n",
    "        self._image_size = image_size\n",
    "\n",
    "    def forward(self, *input):\n",
    "        raise NotImplementedError\n",
    "\n",
    "    def latent_dim(self):\n",
    "        return self._latent_dim\n",
    "\n",
    "    def num_channels(self):\n",
    "        return self._num_channels\n",
    "\n",
    "    def image_size(self):\n",
    "        return self._image_size\n",
    "\n",
    "class SimpleConv56(BaseImageEncoder):\n",
    "    def __init__(self, latent_dim, num_channels, image_size):\n",
    "        super().__init__(latent_dim, num_channels, image_size)\n",
    "        assert image_size == 56, 'This model only works with image size 64x64.'\n",
    "\n",
    "        self.main = nn.Sequential(\n",
    "            nn.Conv2d(num_channels, 32, 4, 2, 1), #28x28\n",
    "            nn.ReLU(True),\n",
    "            nn.Conv2d(32, 32, 4, 2, 1), #14x14\n",
    "            nn.ReLU(True),\n",
    "            nn.Conv2d(32, 64, 4, 2, 1), #7x7\n",
    "            nn.ReLU(True),\n",
    "            nn.Conv2d(64, 128, 4, 1, 0), #4x4\n",
    "            nn.ReLU(True),\n",
    "            nn.Conv2d(128, 256, 4, 2, 1), #2x2\n",
    "            nn.ReLU(True),\n",
    "            nn.Conv2d(256, 256, 4, 2, 1), #2x2\n",
    "            nn.ReLU(True),\n",
    "            Flatten3D(),\n",
    "            nn.Linear(256, latent_dim, bias=True)\n",
    "        )\n",
    "\n",
    "        init_layers(self._modules)\n",
    "\n",
    "    def forward(self, x):\n",
    "        return self.main(x)\n",
    "\n",
    "\n",
    "class SimpleGaussianConv56(SimpleConv56):\n",
    "    def __init__(self, latent_dim, num_channels, image_size):\n",
    "        super().__init__(latent_dim * 2, num_channels, image_size)\n",
    "\n",
    "        # override value of _latent_dim\n",
    "        self._latent_dim = latent_dim\n",
    "\n",
    "    def forward(self, x):\n",
    "        mu_logvar = self.main(x)\n",
    "        mu = mu_logvar[:, :self._latent_dim]\n",
    "        logvar = mu_logvar[:, self._latent_dim:]\n",
    "        return mu, logvar\n"
   ]
  },
  {
   "cell_type": "code",
   "execution_count": 96,
   "metadata": {},
   "outputs": [],
   "source": [
    "class SimpleConv56Decoder(BaseImageEncoder):\n",
    "    def __init__(self, latent_dim, num_channels, image_size):\n",
    "        super().__init__(latent_dim, num_channels, image_size)\n",
    "        assert image_size == 56, 'This model only works with image size 64x64.'\n",
    "\n",
    "        self.main = nn.Sequential(\n",
    "            Unsqueeze3D(),\n",
    "            nn.Conv2d(latent_dim, 256, 1, 2),\n",
    "            nn.ReLU(True),\n",
    "            nn.ConvTranspose2d(256, 256, 4, 2, 1), #2x2\n",
    "            nn.ReLU(True),\n",
    "            nn.ConvTranspose2d(256, 128, 4, 2), #6x6\n",
    "            nn.ReLU(True),\n",
    "            nn.ConvTranspose2d(128, 128, 4, 2, 1), #12x12\n",
    "            nn.ReLU(True),\n",
    "            nn.ConvTranspose2d(128, 64, 4, 2), #26x26\n",
    "            nn.ReLU(True),\n",
    "            nn.ConvTranspose2d(64, 64, 4, 2), #54x54\n",
    "            nn.ReLU(True), \n",
    "            nn.ConvTranspose2d(64, num_channels, 3, 1) # 56x56\n",
    "        )\n",
    "        # output shape = bs x 3 x 64 x 64\n",
    "\n",
    "        init_layers(self._modules)\n",
    "\n",
    "    def forward(self, x):\n",
    "        return self.main(x)\n"
   ]
  },
  {
   "cell_type": "code",
   "execution_count": 97,
   "metadata": {},
   "outputs": [],
   "source": [
    "from torchvision.datasets import ImageFolder\n",
    "from torchvision import transforms\n",
    "\n",
    "normalize = transforms.Normalize(\n",
    "    mean=0.4897,\n",
    "    std=0.1285,\n",
    ")\n",
    "\n",
    "\n",
    "transform = transforms.Compose([\n",
    "    transforms.ToTensor(),\n",
    "    # normalize, Disabled for now because of BCELoss\n",
    "])\n",
    "ds = ImageFolder(\"./data\", transform=transform)"
   ]
  },
  {
   "cell_type": "code",
   "execution_count": 98,
   "metadata": {},
   "outputs": [
    {
     "output_type": "stream",
     "name": "stdout",
     "text": [
      "cuda\n"
     ]
    }
   ],
   "source": [
    "z_dim = 25\n",
    "num_channels = 3\n",
    "image_size = 56\n",
    "device = 'cuda' if torch.cuda.is_available() else 'cpu'\n",
    "print(device)"
   ]
  },
  {
   "cell_type": "code",
   "execution_count": 99,
   "metadata": {},
   "outputs": [],
   "source": [
    "model = VAEModel(SimpleGaussianConv56(z_dim, num_channels, image_size), SimpleConv56Decoder(z_dim, num_channels, image_size)).to(device)"
   ]
  },
  {
   "cell_type": "code",
   "execution_count": 100,
   "metadata": {},
   "outputs": [
    {
     "output_type": "execute_result",
     "data": {
      "text/plain": [
       "VAEModel(\n",
       "  (encoder): SimpleGaussianConv56(\n",
       "    (main): Sequential(\n",
       "      (0): Conv2d(3, 32, kernel_size=(4, 4), stride=(2, 2), padding=(1, 1))\n",
       "      (1): ReLU(inplace=True)\n",
       "      (2): Conv2d(32, 32, kernel_size=(4, 4), stride=(2, 2), padding=(1, 1))\n",
       "      (3): ReLU(inplace=True)\n",
       "      (4): Conv2d(32, 64, kernel_size=(4, 4), stride=(2, 2), padding=(1, 1))\n",
       "      (5): ReLU(inplace=True)\n",
       "      (6): Conv2d(64, 128, kernel_size=(4, 4), stride=(1, 1))\n",
       "      (7): ReLU(inplace=True)\n",
       "      (8): Conv2d(128, 256, kernel_size=(4, 4), stride=(2, 2), padding=(1, 1))\n",
       "      (9): ReLU(inplace=True)\n",
       "      (10): Conv2d(256, 256, kernel_size=(4, 4), stride=(2, 2), padding=(1, 1))\n",
       "      (11): ReLU(inplace=True)\n",
       "      (12): Flatten3D()\n",
       "      (13): Linear(in_features=256, out_features=50, bias=True)\n",
       "    )\n",
       "  )\n",
       "  (decoder): SimpleConv56Decoder(\n",
       "    (main): Sequential(\n",
       "      (0): Unsqueeze3D()\n",
       "      (1): Conv2d(25, 256, kernel_size=(1, 1), stride=(2, 2))\n",
       "      (2): ReLU(inplace=True)\n",
       "      (3): ConvTranspose2d(256, 256, kernel_size=(4, 4), stride=(2, 2), padding=(1, 1))\n",
       "      (4): ReLU(inplace=True)\n",
       "      (5): ConvTranspose2d(256, 128, kernel_size=(4, 4), stride=(2, 2))\n",
       "      (6): ReLU(inplace=True)\n",
       "      (7): ConvTranspose2d(128, 128, kernel_size=(4, 4), stride=(2, 2), padding=(1, 1))\n",
       "      (8): ReLU(inplace=True)\n",
       "      (9): ConvTranspose2d(128, 64, kernel_size=(4, 4), stride=(2, 2))\n",
       "      (10): ReLU(inplace=True)\n",
       "      (11): ConvTranspose2d(64, 64, kernel_size=(4, 4), stride=(2, 2))\n",
       "      (12): ReLU(inplace=True)\n",
       "      (13): ConvTranspose2d(64, 3, kernel_size=(3, 3), stride=(1, 1))\n",
       "    )\n",
       "  )\n",
       ")"
      ]
     },
     "metadata": {},
     "execution_count": 100
    }
   ],
   "source": [
    "save_path=\"./checkpoints/\"\n",
    "# filename=\"vae_2021-02-04_11-09-53_[488194.2].save\"\n",
    "filename=\"vae_2021-01-28_14-09-52_26.959888.save\"\n",
    "model.load_state_dict(torch.load(save_path+filename))\n",
    "model.eval()"
   ]
  },
  {
   "cell_type": "code",
   "execution_count": 101,
   "metadata": {},
   "outputs": [],
   "source": [
    "import random\n",
    "limit=3\n",
    "inter=2/3"
   ]
  },
  {
   "cell_type": "code",
   "execution_count": 102,
   "metadata": {},
   "outputs": [],
   "source": [
    "interpolation = torch.arange(-limit, limit+0.1, inter)"
   ]
  },
  {
   "cell_type": "code",
   "execution_count": 103,
   "metadata": {},
   "outputs": [],
   "source": [
    "#rand_idx = random.randint(1, n_dsets-1)\n",
    "rand_idx = 0"
   ]
  },
  {
   "cell_type": "code",
   "execution_count": 104,
   "metadata": {},
   "outputs": [],
   "source": [
    "random_img = ds.__getitem__(rand_idx)[0].cuda().unsqueeze(0)\n",
    "random_img_z = model.encode(random_img)[0]"
   ]
  },
  {
   "cell_type": "code",
   "execution_count": 105,
   "metadata": {},
   "outputs": [
    {
     "output_type": "execute_result",
     "data": {
      "text/plain": [
       "tensor([[-0.2995, -0.0123, -0.0139,  0.0058, -0.0096,  0.0086, -0.0059,  0.0032,\n",
       "          0.0046, -0.0117, -0.0123,  0.0065,  0.0025, -0.0093, -0.0074,  0.0054,\n",
       "          0.8741, -0.0147, -0.0034,  0.0088,  0.0015,  0.0035, -0.0096,  0.0057,\n",
       "          0.0125]], device='cuda:0', grad_fn=<SliceBackward>)"
      ]
     },
     "metadata": {},
     "execution_count": 105
    }
   ],
   "source": [
    "random_img_z"
   ]
  },
  {
   "cell_type": "code",
   "execution_count": 106,
   "metadata": {},
   "outputs": [],
   "source": [
    "random_z = torch.rand(1, z_dim).cuda()"
   ]
  },
  {
   "cell_type": "code",
   "execution_count": 107,
   "metadata": {},
   "outputs": [],
   "source": [
    "gifs = []"
   ]
  },
  {
   "cell_type": "code",
   "execution_count": 108,
   "metadata": {},
   "outputs": [],
   "source": [
    "samples = []\n",
    "z_ori = random_img_z\n",
    "for z_index in range(z_dim):\n",
    "    z = z_ori.clone()\n",
    "    for val in interpolation:\n",
    "        z[:, z_index] = val\n",
    "        sample = model.decode(z).data\n",
    "        samples.append(sample)\n",
    "        gifs.append(sample)\n",
    "\n",
    "samples = torch.cat(samples).cpu()"
   ]
  },
  {
   "cell_type": "code",
   "execution_count": 109,
   "metadata": {},
   "outputs": [],
   "source": [
    "gifs = samples.view(z_dim, len(interpolation), 3, 56, 56).transpose(0,1)"
   ]
  },
  {
   "cell_type": "code",
   "execution_count": 110,
   "metadata": {},
   "outputs": [],
   "source": [
    "from torchvision.utils import save_image\n",
    "import subprocess\n",
    "\n",
    "def grid2gif(image_str, output_gif, delay=100):\n",
    "    \"\"\"Make GIF from images.\n",
    "    code from:\n",
    "        https://stackoverflow.com/questions/753190/programmatically-generate-video-or-animated-gif-in-python/34555939#34555939\n",
    "    \"\"\"\n",
    "    str1 = 'magick convert -delay '+str(delay)+' -loop 0 ' + image_str  + ' ' + output_gif\n",
    "    subprocess.call(str1, shell=True)"
   ]
  },
  {
   "cell_type": "code",
   "execution_count": 111,
   "metadata": {},
   "outputs": [],
   "source": [
    "output_dir = \"./viz/\"\n",
    "key = \"rand\"\n",
    "for j, val in enumerate(interpolation):\n",
    "    save_image(tensor=gifs[j].cpu(),\n",
    "                fp=os.path.join(output_dir, '{}_{}.png'.format(key, j)),\n",
    "                nrow=z_dim, pad_value=1)\n",
    "\n",
    "grid2gif(os.path.join(output_dir, key+'*.png'),\n",
    "            os.path.join(output_dir, key+'.gif'), delay=10)"
   ]
  },
  {
   "cell_type": "code",
   "execution_count": null,
   "metadata": {},
   "outputs": [],
   "source": []
  }
 ]
}