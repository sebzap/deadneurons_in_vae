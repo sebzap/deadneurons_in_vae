{
 "cells": [
  {
   "cell_type": "code",
   "execution_count": 1,
   "metadata": {},
   "outputs": [],
   "source": [
    "from carla_disentanglement.datasets.minigrid import MinigridDataset, MinigridScoreDataset\n",
    "from carla_disentanglement.datasets.dsprites import DSpritesDataset\n",
    "import numpy as np"
   ]
  },
  {
   "cell_type": "code",
   "execution_count": 2,
   "metadata": {},
   "outputs": [],
   "source": [
    "ds = MinigridScoreDataset()"
   ]
  },
  {
   "cell_type": "code",
   "execution_count": null,
   "metadata": {},
   "outputs": [
    {
     "data": {
      "text/plain": [
       "(3, 20, 20)"
      ]
     },
     "execution_count": 3,
     "metadata": {},
     "output_type": "execute_result"
    }
   ],
   "source": [
    "d= np.random.random((3,4,4))\n",
    "np.pad(d, ((0,0),(8,8),(8,8)), constant_values=100).shape"
   ]
  },
  {
   "cell_type": "code",
   "execution_count": 3,
   "metadata": {},
   "outputs": [
    {
     "name": "stdout",
     "output_type": "stream",
     "text": [
      "tensor([1, 2, 3, 4], dtype=torch.int32)\n",
      "tensor([1, 2, 3, 4], dtype=torch.int32)\n",
      "tensor([1, 2, 3, 4], dtype=torch.int32)\n",
      "tensor([1, 2, 3, 4], dtype=torch.int32)\n",
      "tensor([1, 2, 3, 4], dtype=torch.int32)\n",
      "tensor([1, 2, 3, 4], dtype=torch.int32)\n",
      "tensor([ 1,  5,  8, 11, 12, 13, 14, 15, 16, 17], dtype=torch.int32)\n",
      "tensor([ 1,  5,  8, 11, 12, 13, 14, 15, 16, 17], dtype=torch.int32)\n"
     ]
    }
   ],
   "source": [
    "for i in range(ds.num_factors):\n",
    "    print(ds.labels[:,i].unique())"
   ]
  },
  {
   "cell_type": "code",
   "execution_count": 4,
   "metadata": {},
   "outputs": [
    {
     "data": {
      "text/plain": [
       "torch.Size([409600, 8])"
      ]
     },
     "execution_count": 4,
     "metadata": {},
     "output_type": "execute_result"
    }
   ],
   "source": [
    "ds.labels.shape"
   ]
  },
  {
   "cell_type": "code",
   "execution_count": 5,
   "metadata": {},
   "outputs": [
    {
     "name": "stderr",
     "output_type": "stream",
     "text": [
      "WARNING:root:Argument blacklist is deprecated. Please use denylist.\n",
      "WARNING:root:Argument blacklist is deprecated. Please use denylist.\n",
      "WARNING:root:Argument blacklist is deprecated. Please use denylist.\n",
      "WARNING:root:Argument blacklist is deprecated. Please use denylist.\n",
      "WARNING:root:Argument blacklist is deprecated. Please use denylist.\n",
      "WARNING:root:Argument blacklist is deprecated. Please use denylist.\n",
      "WARNING:root:Argument blacklist is deprecated. Please use denylist.\n",
      "WARNING:root:Argument blacklist is deprecated. Please use denylist.\n",
      "WARNING:root:Argument blacklist is deprecated. Please use denylist.\n",
      "WARNING:root:Argument blacklist is deprecated. Please use denylist.\n",
      "WARNING:root:Argument blacklist is deprecated. Please use denylist.\n",
      "WARNING:root:Argument blacklist is deprecated. Please use denylist.\n"
     ]
    },
    {
     "data": {
      "text/plain": [
       "ParsedConfigFileIncludesAndImports(filename='metrics.gin', imports=[], includes=[])"
      ]
     },
     "execution_count": 5,
     "metadata": {},
     "output_type": "execute_result"
    }
   ],
   "source": [
    "from disentanglement_lib.evaluation.metrics import beta_vae\n",
    "from disentanglement_lib.evaluation.metrics import factor_vae \n",
    "from disentanglement_lib.evaluation.metrics import dci\n",
    "from disentanglement_lib.evaluation.metrics import mig\n",
    "\n",
    "from disentanglement_lib.evaluation.metrics import modularity_explicitness\n",
    "from disentanglement_lib.evaluation.metrics import sap_score\n",
    "\n",
    "import gin.tf\n",
    "gin.parse_config_file(\"metrics.gin\")"
   ]
  },
  {
   "cell_type": "code",
   "execution_count": 6,
   "metadata": {},
   "outputs": [],
   "source": [
    "def make_representor():\n",
    "    # Define the representation function\n",
    "    def _represent(x):\n",
    "        # assert isinstance(x, np.ndarray), \\\n",
    "        #     \"Input to the representation function must be a ndarray.\"\n",
    "        # assert x.ndim == 4, \\\n",
    "        #     \"Input to the representation function must be a four dimensional NHWC tensor.\"\n",
    "        # # Convert from NHWC to NCHW\n",
    "        # x = np.moveaxis(x, 3, 1)\n",
    "        # # Convert to torch tensor and evaluate\n",
    "        # x = torch.from_numpy(x).float().to('cuda' if cuda else 'cpu')\n",
    "        y = np.random.random((x.shape[0],100))\n",
    "        assert y.ndim == 2, \\\n",
    "            \"The returned output from the representor must be two dimensional (NC).\"\n",
    "        return y\n",
    "\n",
    "    return _represent"
   ]
  },
  {
   "cell_type": "code",
   "execution_count": 7,
   "metadata": {},
   "outputs": [
    {
     "data": {
      "text/plain": [
       "array([[1, 1, 1, 1, 1, 1, 1, 1],\n",
       "       [1, 1, 1, 1, 1, 1, 1, 5]])"
      ]
     },
     "execution_count": 7,
     "metadata": {},
     "output_type": "execute_result"
    }
   ],
   "source": [
    "ds.labels[0:2].numpy()"
   ]
  },
  {
   "cell_type": "code",
   "execution_count": 8,
   "metadata": {},
   "outputs": [],
   "source": [
    "import matplotlib.pyplot as plt"
   ]
  },
  {
   "cell_type": "code",
   "execution_count": 9,
   "metadata": {},
   "outputs": [
    {
     "data": {
      "image/png": "[encoded data removed]",
      "text/plain": [
       "<Figure size 432x288 with 1 Axes>"
      ]
     },
     "metadata": {
      "needs_background": "light"
     },
     "output_type": "display_data"
    }
   ],
   "source": [
    "plt.imshow(ds.data[3].permute(1,2,0), interpolation='nearest')\n",
    "plt.show()  "
   ]
  },
  {
   "cell_type": "code",
   "execution_count": 15,
   "metadata": {},
   "outputs": [
    {
     "data": {
      "image/png": "[encoded data removed]",
      "text/plain": [
       "<Figure size 432x288 with 1 Axes>"
      ]
     },
     "metadata": {
      "needs_background": "light"
     },
     "output_type": "display_data"
    }
   ],
   "source": [
    "ofromf = ds.sample_observations_from_factors(np.array([[1,2,0,1,2,0,1,4]]), np.random.RandomState(0))\n",
    "plt.imshow(ofromf[0].permute(1,2,0), interpolation='nearest')\n",
    "plt.show()  "
   ]
  },
  {
   "cell_type": "code",
   "execution_count": null,
   "metadata": {},
   "outputs": [],
   "source": [
    "random_state = np.random.RandomState(0)\n",
    "mig.compute_mig(ds,make_representor(), random_state) "
   ]
  },
  {
   "cell_type": "code",
   "execution_count": null,
   "metadata": {},
   "outputs": [],
   "source": [
    "random_state = np.random.RandomState(0)\n",
    "sap_score.compute_sap(ds,make_representor(), random_state) "
   ]
  },
  {
   "cell_type": "code",
   "execution_count": null,
   "metadata": {},
   "outputs": [],
   "source": [
    "random_state = np.random.RandomState(0)\n",
    "factor_vae.compute_factor_vae(ds, make_representor(), random_state, num_variance_estimate=10000)"
   ]
  },
  {
   "cell_type": "code",
   "execution_count": null,
   "metadata": {},
   "outputs": [],
   "source": [
    "random_state = np.random.RandomState(0)\n",
    "beta_vae.compute_beta_vae_sklearn(ds, make_representor(), random_state, batch_size=64, num_train=10000, num_eval=5000)"
   ]
  },
  {
   "cell_type": "code",
   "execution_count": null,
   "metadata": {},
   "outputs": [],
   "source": [
    "random_state = np.random.RandomState(0)\n",
    "dci.compute_dci(ds,make_representor(), random_state) "
   ]
  },
  {
   "cell_type": "code",
   "execution_count": null,
   "metadata": {},
   "outputs": [],
   "source": []
  }
 ],
 "metadata": {
  "interpreter": {
   "hash": "376c552cebb382e2be390b797e042089a374e3fa7ee98255c61a2c1ffbc8acc5"
  },
  "kernelspec": {
   "display_name": "Python 3.7.9 64-bit ('carla_disentanglement': conda)",
   "language": "python",
   "name": "python3"
  },
  "language_info": {
   "codemirror_mode": {
    "name": "ipython",
    "version": 3
   },
   "file_extension": ".py",
   "mimetype": "text/x-python",
   "name": "python",
   "nbconvert_exporter": "python",
   "pygments_lexer": "ipython3",
   "version": "3.7.9"
  },
  "orig_nbformat": 4
 },
 "nbformat": 4,
 "nbformat_minor": 2
}
